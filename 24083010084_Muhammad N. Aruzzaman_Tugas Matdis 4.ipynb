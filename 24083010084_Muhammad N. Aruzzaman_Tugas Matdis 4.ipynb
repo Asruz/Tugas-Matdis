{
  "nbformat": 4,
  "nbformat_minor": 0,
  "metadata": {
    "colab": {
      "provenance": []
    },
    "kernelspec": {
      "name": "python3",
      "display_name": "Python 3"
    },
    "language_info": {
      "name": "python"
    }
  },
  "cells": [
    {
      "cell_type": "code",
      "source": [
        "# Muhammad N. Asruzzaman\n",
        "# Soal Matdis : 1 + 1/2 + 1/3 + ... + 1/n < 2\n",
        "\n",
        "s = 0.0  # variabel untuk menyimpan jumlah parsial\n",
        "n = 0    # variabel untuk menghitung indeks n\n",
        "\n",
        "# Cari n pertama yang membuat jumlah parsial >= 2\n",
        "while True:\n",
        "    n += 1\n",
        "    s += 1.0 / n  # tambahkan 1/n ke jumlah parsial\n",
        "    if s >= 2.0:  # kalau jumlahnya sudah mencapai / melampaui 2, hentikan\n",
        "        break\n",
        "\n",
        "# hasil\n",
        "print(f\"Jumlah parsial pertama yang >= 2 terjadi pada n = {n}\")  # n pertama kali ≥2\n",
        "print(f\"S_{n} = {s}\")  # nilai jumlah parsial di n tersebut\n",
        "\n",
        "# Kita juga bisa menunjukkan n terakhir yang masih <2\n",
        "print(f\"Nilai terakhir yang masih < 2 ada pada n = {n-1}\")  # n sebelum ini masih <2"
      ],
      "metadata": {
        "colab": {
          "base_uri": "https://localhost:8080/"
        },
        "id": "cBW8fmyqq6WG",
        "outputId": "1ef759c9-b7fd-41e6-8de6-de276c95d9de"
      },
      "execution_count": 4,
      "outputs": [
        {
          "output_type": "stream",
          "name": "stdout",
          "text": [
            "Jumlah parsial pertama yang >= 2 terjadi pada n = 4\n",
            "S_4 = 2.083333333333333\n",
            "Nilai terakhir yang masih < 2 ada pada n = 3\n"
          ]
        }
      ]
    },
    {
      "cell_type": "code",
      "source": [],
      "metadata": {
        "id": "B2Wz3QjfsHmb"
      },
      "execution_count": null,
      "outputs": []
    }
  ]
}