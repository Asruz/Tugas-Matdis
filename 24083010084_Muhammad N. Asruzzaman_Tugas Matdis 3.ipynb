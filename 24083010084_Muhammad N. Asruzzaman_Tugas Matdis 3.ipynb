{
  "nbformat": 4,
  "nbformat_minor": 0,
  "metadata": {
    "colab": {
      "provenance": []
    },
    "kernelspec": {
      "name": "python3",
      "display_name": "Python 3"
    },
    "language_info": {
      "name": "python"
    }
  },
  "cells": [
    {
      "cell_type": "code",
      "execution_count": null,
      "metadata": {
        "colab": {
          "base_uri": "https://localhost:8080/"
        },
        "id": "TMsH9dPGX4sa",
        "outputId": "9161d565-aca4-4bdd-d645-863bfd51dd49"
      },
      "outputs": [
        {
          "output_type": "stream",
          "name": "stdout",
          "text": [
            "No 4: n yang memenuhi n! >= 2^(n-1): [1, 2, 3, 4, 5, 6, 7, 8, 9, 10, 11, 12, 13, 14, 15, 16, 17, 18, 19, 20, 21, 22, 23, 24, 25, 26, 27, 28, 29, 30]\n",
            "No 5: n yang memenuhi 2^n > n^2: [1, 5, 6, 7, 8, 9, 10, 11, 12, 13, 14, 15, 16, 17, 18, 19, 20, 21, 22, 23, 24, 25, 26, 27, 28, 29, 30]\n"
          ]
        }
      ],
      "source": [
        "import math\n",
        "\n",
        "# Buat list untuk menampung n valid\n",
        "valid_n_no4 = []\n",
        "valid_n_no5 = []\n",
        "\n",
        "# Coba n dari 1 sampai 30 (bisa diperbesar)\n",
        "for n in range(1, 31):\n",
        "    # No 4: n! >= 2^(n-1)\n",
        "    if math.factorial(n) >= 2**(n-1):\n",
        "        valid_n_no4.append(n)\n",
        "    # No 5: 2^n > n^2\n",
        "    if 2**n > n**2:\n",
        "        valid_n_no5.append(n)\n",
        "\n",
        "print(\"No 4: n yang memenuhi n! >= 2^(n-1):\", valid_n_no4)\n",
        "print(\"No 5: n yang memenuhi 2^n > n^2:\", valid_n_no5)\n"
      ]
    }
  ]
}